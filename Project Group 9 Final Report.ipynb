{
 "cells": [
  {
   "cell_type": "markdown",
   "metadata": {},
   "source": [
    "# CSCI 2000U - Scientific Data Analysis\n",
    "\n",
    "# Project Group 9 Final Project\n",
    "\n",
    "## Members: Noah Briffa, Andrew Lim, Nathaniel Tai\n",
    "\n",
    "### Introduction:\n",
    "\n",
    "The reason we decided to choose this dataset US traffic accidents is that it offered a lot of interesting info to observe. Much of this information can be used together to try to predict traffic accidents. Another reason we decided to choose this dataset over the other potential datasets is that this dataset included traffic accidents in the year of 2020. Having the dataset include the year 2020 was appealing to us due to the emergence of Covid 19 as a global issue; we can now use the information from the dataset to see if different traffic accident patterns emerged during lockdown, compared to trends in previous years.\n",
    "\n",
    "There were multiple datasets we found and thought of choosing from. One of the other datasets we were inclined towards was a stroke prediction dataset that included different health attributes of stroke patients. The data included things such as gender, age, diseases, and smoking status. Using this data one can use it to predict whether a person is at increased risk of having a stroke. One other dataset we found interesting was a used vehicles dataset which gathered all the listings of vehicles found on craigslist; we were able to see the different vehicles listed with their price, depreciation, etc.\n",
    "\n",
    "Most of the questions were intriguing enough for us to analyze and find worth studying. We wanted to question if a society is told to stay inside and prevent driving to a minimum, how would that affect the volume of traffic accidents? Another question is accidents can occur at any time of day, is it possible to find out what is the least likely for them to occur? Figuring out how the severity of crashes and distance traveled was by far the most interesting one to solve.\n",
    "\n",
    "The members of our group are Nathaniel, Noah and Andrew. Nathaniel was our main contributor for the coding part of the assignment; he was able to come up with ideas and work out the ways to answer the questions we laid out. Noah was our main contributor for the writing part and analysis of the assignment, he was able to articulate what we wanted a reader to learn and understand from our analysis. Andrew assisted in completing the README file and helped me in completing the analysis part of our project. In the end, we all checked over each other’s work and successfully studied our data.\n"
   ]
  },
  {
   "cell_type": "markdown",
   "metadata": {},
   "source": [
    "### Description of data: \n",
    "##### Description:\n",
    "The data we chose is a countrywide car accident data which covers 49 states of the United States of America, the data is collected from February 2016 to Dec 2020.\n",
    "\n",
    "The data was collected from multiple API's (is the acronym for Application Programming Interface, which is a software intermediary that allows two applications to talk to each other. Each time you use an app like Facebook, send an instant message, or check the weather on your phone, you're using an API.)\n",
    "\n",
    "The API provides data from streaming traffic incidents( or events) data. These API broadcast traffic capture a variety of entities from transportation, law enforcement, traffic cameras and sensors within road-networks.\n",
    "\n",
    "We were able to access the data through the website kaggle, where we searched and decided on using the dataset from US accidents. We download and upload the data into our jupiter file through the use of:\n",
    "\n",
    "df = pd.read_csv('US_Accidents_Dec20_updated.csv')\n",
    "\n",
    "##### Acknowledgements\n",
    "\"Please cite the following papers if you use this dataset:\n",
    "\n",
    "Moosavi, Sobhan, Mohammad Hossein Samavatian, Srinivasan Parthasarathy, and Rajiv Ramnath. “A Countrywide Traffic Accident Dataset.”, 2019.\n",
    "\n",
    "Moosavi, Sobhan, Mohammad Hossein Samavatian, Srinivasan Parthasarathy, Radu Teodorescu, and Rajiv Ramnath. \"Accident Risk Prediction based on Heterogeneous Sparse Data: New Dataset and Insights.\" In proceedings of the 27th ACM SIGSPATIAL International Conference on Advances in Geographic Information Systems, ACM, 2019.\"\n"
   ]
  },
  {
   "cell_type": "markdown",
   "metadata": {},
   "source": [
    "### Analysis of the data: \n",
    "\n",
    "#### Description of Each Data Attributes (47 Total): \n",
    "\\*Here POI means \"point of interest\" of the accident.\n",
    "\n",
    "- Severity: shows us the total number of casualties\n",
    "- Start Time: shows what time the accident started\n",
    "- End Time: shows us what time the accident ended and when accident start to impact traffic\n",
    "- Start Lat: shows latitude through gps cords at start position.\n",
    "- Start Lng: shows longitude through gps cords at start position.\n",
    "- End Lat: shows latitude through gps cords at start position.\n",
    "- End Lnf: shows longitude through gps cords at start position.\n",
    "- Distance(mi);  tells us the exact length of the road the accident affected.\n",
    "- Description:  a simple explanation of each accident in words.\n",
    "- Number: Shows the street numer in address record.\n",
    "- Street: Shows the street name in address record.\n",
    "- Side : Shows the relative side of the street (Right/Left) in address record.\n",
    "- City: Shows the city in address record.\n",
    "- County: Shows the county in address record.\n",
    "- State: Shows the state in address record.\n",
    "- Zipcode: Shows the zipcode in address record.\n",
    "- Country: Shows the country in address record.\n",
    "- Timezone: Shows timezone based on the location of the accident (eastern, central, etc.).\n",
    "- Airport_Code: Denotes an airport-based weather station which is the closest one to location of the accident.\n",
    "- Weather_Timestamp: Shows the time-stamp of weather observation record (in local time).\n",
    "- Temperature(F): Shows the temperature (in Fahrenheit).\n",
    "- Wind_Chill(F): Shows the wind chill (in Fahrenheit).\n",
    "- Humidity(%): Shows the humidity (in percentage).\n",
    "- Pressure(in): Shows the air pressure (in inches).\n",
    "- Visibility(mi): Shows visibility (in miles).\n",
    "- Wind_Direction: Shows wind direction.\n",
    "- Wind_Speed(mph): Shows wind speed (in miles per hour).\n",
    "- Precipitation(in): Shows precipitation amount in inches, if there is any.\n",
    "- Weather_Condition: Shows the weather condition (rain, snow, thunderstorm, fog, etc.)\n",
    "- Amenity: A POI annotation which indicates presence of amenity in a nearby location.\n",
    "- Bump: A POI annotation which indicates presence of speed bump or hump in a nearby location.\n",
    "- Crossing: A POI annotation which indicates presence of crossing in a nearby location.\n",
    "- Give_Way: A POI annotation which indicates presence of give_way in a nearby location.\n",
    "- Juction: A POI annotation which indicates presence of junction in a nearby location.\n",
    "- No_Exit: A POI annotation which indicates presence of junction in a nearby location.\n",
    "- Railway: A POI annotation which indicates presence of railway in a nearby location.\n",
    "- Roundabout: A POI annotation which indicates presence of roundabout in a nearby location.\n",
    "- Station: A POI annotation which indicates presence of station in a nearby location.\n",
    "- Stop: A POI annotation which indicates presence of stop in a nearby location.\n",
    "- Traffic_Calming: A POI annotation which indicates presence of traffic_calming in a nearby location.\n",
    "- Traffic_Signal: A POI annotation which indicates presence of traffic_signal in a nearby location.\n",
    "- Turning_loop: A POI annotation which indicates presence of traffic_signal in a nearby location.\n",
    "- Sunrise_Sunset: Shows the period of day (i.e. day or night) based on sunrise/sunset.\n",
    "- Civil_Twilight: Shows the period of day (i.e. day or night) based on civil twilight.\n",
    "- Nautical_Twilight: Shows the period of day (i.e. day or night) based on nautical twilight.\n",
    "- Astronomical_Twilight: Shows the period of day (i.e. day or night) based on astronomical twilight.\n",
    "\n",
    "##### Cleaning\n",
    "\n",
    "We didn't use all 47 attributes. In order to answer our exploratory questions, we selected the data that we required So that it could be processed in smaller form. We removed all features related to location(Latitude/Longitude, Addresses), as well as other non-relevant features that were not necessary for our analysis(Timezone, Airport_code, etc).\n",
    "\n",
    "The features that remained to be used are as follows:\n",
    "\n",
    "- Severity: shows us the total number of casualties\n",
    "- Start Time: shows what time the accident started\n",
    "- Distance(mi);  tells us the exact length of the road the accident affected.\n",
    "- Wind_Speed(mph): Shows wind speed (in miles per hour).\n",
    "- Precipitation(in): Shows precipitation amount in inches, if there is any.\n",
    "- Crossing: A POI annotation which indicates presence of crossing in a nearby location.\n",
    "- Give_Way: A POI annotation which indicates presence of give_way in a nearby location.\n",
    "- Junction: A POI annotation which indicates presence of junction in a nearby location.\n",
    "- Roundabout: A POI annotation which indicates presence of roundabout in a nearby location.\n",
    "- Stop: A POI annotation which indicates presence of stop in a nearby location.\n",
    "- Traffic_Signal: A POI annotation which indicates presence of traffic_signal in a nearby location."
   ]
  },
  {
   "cell_type": "markdown",
   "metadata": {},
   "source": [
    "### Exploratory Data Analysis: \n"
   ]
  },
  {
   "cell_type": "code",
   "execution_count": 1,
   "metadata": {},
   "outputs": [],
   "source": [
    "#importing libraries\n",
    "import csv\n",
    "import re\n",
    "import matplotlib.pyplot as plt\n",
    "from functools import reduce\n",
    "import numpy as np\n",
    "import pandas as pd\n",
    "\n",
    "#Read file\n",
    "df = pd.read_csv('US_Accidents_Dec20_updated.csv')  "
   ]
  },
  {
   "cell_type": "markdown",
   "metadata": {},
   "source": [
    "#### Research Question 1:\n",
    "“The 2020 year was the peak of COVID-19 when world health organizations and governments advised everyone to stay inside to prevent the spread of Covid. With that in mind, has the volume of traffic accidents gone down or is it the same as it was in previous years?”"
   ]
  },
  {
   "cell_type": "code",
   "execution_count": 2,
   "metadata": {},
   "outputs": [],
   "source": [
    "# Question 1.\n",
    "#isolate to start time of accident.\n",
    "df_2020 = df['Start_Time']"
   ]
  },
  {
   "cell_type": "code",
   "execution_count": 3,
   "metadata": {},
   "outputs": [
    {
     "name": "stdout",
     "output_type": "stream",
     "text": [
      "2017:  170099\n",
      "2018:  166936\n",
      "2019:  261772\n",
      "2020:  787932\n"
     ]
    }
   ],
   "source": [
    "# Question 1.\n",
    "# Compare sum of accidents in all years.\n",
    "# Should leave out 2016 since it's incomplete (starts in Feb)\n",
    "acc_2017 = [date for date in df_2020 if \"2017\" in date]\n",
    "print(\"2017: \", len(acc_2017))\n",
    "acc_2018 = [date for date in df_2020 if \"2018\" in date]\n",
    "print(\"2018: \", len(acc_2018))\n",
    "acc_2019 = [date for date in df_2020 if \"2019\" in date]\n",
    "print(\"2019: \", len(acc_2019))\n",
    "acc_2020 = [date for date in df_2020 if \"2020\" in date]\n",
    "print(\"2020: \", len(acc_2020))"
   ]
  },
  {
   "cell_type": "markdown",
   "metadata": {},
   "source": [
    "In the data above we chose to start from 2017 as the data starts from February, 2016 which isn’t a full year so we decided to leave it out. In the data from 2017 to 2018, the amount of accidents decreases a bit surprisingly. However, it seems that there were more than 3 times the amount of accidents in 2020 as there were in 2019. We initially thought it would go down, since lockdown would make people go outside less. Nonetheless, we never had anticipated the calculated trend out data.  \n",
    "\n",
    "\n",
    "Process:  \n",
    "For this question we looked at the 'Start_Time' of the occurence of the accidents. The dates in that column were in string format, so we used the years(2017-2020) as substrings to look within the whole date to find what year each accident occurred in. We put all accidents that occured within certain years into their respective lists, and used the length of those lists to find the total number of accidents that occurred in each year.\n",
    "\n",
    "Another approach could have been to compare the strings as times(before 2017, before 2018, etc) but that requires converting the datatype of the feature.\n"
   ]
  },
  {
   "cell_type": "markdown",
   "metadata": {},
   "source": [
    "#### Research Question 2:\n",
    "Following the previous question we thought about how the hour of the day could correlate with the number of accidents that occur. The question we came up with was, “If one has the freedom to be able to drive at any time they want to get to any location, what is the most ideal time to drive to avoid being in a possible accident?”"
   ]
  },
  {
   "cell_type": "code",
   "execution_count": 4,
   "metadata": {},
   "outputs": [],
   "source": [
    "# Question 2.\n",
    "# During what hours of the day do the highest volume of accidents occur?\n",
    "df_time = df.copy()\n",
    "df_time[\"Start_Time\"] = pd.to_datetime(df_time[\"Start_Time\"])\n",
    "\n",
    "# Returns hour of the accident occurence for each incident\n",
    "df_time['hour'] = df_time[\"Start_Time\"].map(lambda x: x.hour)"
   ]
  },
  {
   "cell_type": "code",
   "execution_count": 5,
   "metadata": {},
   "outputs": [
    {
     "name": "stdout",
     "output_type": "stream",
     "text": [
      "0      46125\n",
      "1      43434\n",
      "2      38801\n",
      "3      32175\n",
      "4      29478\n",
      "5      40105\n",
      "6      57859\n",
      "7      73938\n",
      "8      75802\n",
      "9      59744\n",
      "10     50442\n",
      "11     51884\n",
      "12     72283\n",
      "13     83700\n",
      "14     90162\n",
      "15    100074\n",
      "16    105559\n",
      "17    108011\n",
      "18     91413\n",
      "19     65190\n",
      "20     53515\n",
      "21     48988\n",
      "22     49156\n",
      "23     48226\n",
      "Name: hour, dtype: int64\n"
     ]
    }
   ],
   "source": [
    "# Question 2.\n",
    "# Organize counts of sum of accidents for each hour\n",
    "df_t = df_time[[\"ID\", \"hour\"]]\n",
    "df_tplot = df_t[\"hour\"].value_counts()\n",
    "df_tplot = df_tplot.sort_index()\n",
    "print(df_tplot)"
   ]
  },
  {
   "cell_type": "code",
   "execution_count": 6,
   "metadata": {},
   "outputs": [
    {
     "data": {
      "text/plain": [
       "Text(0.5, 0, 'Hour of Day')"
      ]
     },
     "execution_count": 6,
     "metadata": {},
     "output_type": "execute_result"
    },
    {
     "data": {
      "image/png": "[encoded data removed]",
      "text/plain": [
       "<Figure size 432x288 with 1 Axes>"
      ]
     },
     "metadata": {
      "needs_background": "light"
     },
     "output_type": "display_data"
    }
   ],
   "source": [
    "# Question 2.\n",
    "# Plotting and formatting data\n",
    "plt.plot(df_tplot)\n",
    "plt.xticks(ticks=list(range(24)))\n",
    "\n",
    "#Titles\n",
    "plt.title('Occurence of Accidents By Hour of Day')\n",
    "plt.ylabel(\"Number of Accidents\")\n",
    "plt.xlabel(\"Hour of Day\")"
   ]
  },
  {
   "cell_type": "markdown",
   "metadata": {},
   "source": [
    "Our hour-of-day scale runs from 0 to 23, with 0-12 depicting the time from 12am to 12:59pm and 13 - 23 depicting the time from 1pm to 11:59pm. As seen in the graph we can see that the lowest amount of traffic is at 4 am and the highest amount is at 5 pm. We can also get a general idea of when most traffic is, which would be 7-8 am and 3 - 6 pm. We predicted that the most ideal time to travel would be in the early morning hours as many people are still sleeping, therefore less traffic on the road. We also theorized that the most traffic would be around rush hour(people getting home from work/school) which was around 4pm - 6pm.\n",
    "\n",
    "Process:  \n",
    "For this question we used the 'Start_Time' feature again, but in a different way. We looked at smaller and more numberous categories; hour in the day instead of which year. To do this, he had to convert the start time to datetime in orer to  get the hour value from it. We created a new column in order to store the hour value(which we got using the '.hour' function for datetime) for each index.  \n",
    "Once each index had the hour it occurred, we counted the amount of accidents that occurred in each of the 24 hours in the day.  \n",
    "Another solution that was tried was similar to the previous question. I attempted to count through all indexes, increasing each separate sum as I went along by looking into the 'Start_Time' column. This solution didn't work because it was very disorganized for 24 groups instead of 4 groups(years). "
   ]
  },
  {
   "cell_type": "markdown",
   "metadata": {},
   "source": [
    "#### Research Question 3:\n",
    "Thinking about time helped us to identify a relationship we could determine in our dataset, that is:  \n",
    "*“Depending on the number of severity and the length of road that is affected by the accident, is there a strong relationship between both numbers?”*"
   ]
  },
  {
   "cell_type": "code",
   "execution_count": 7,
   "metadata": {},
   "outputs": [
    {
     "data": {
      "text/html": [
       "<div>\n",
       "<style scoped>\n",
       "    .dataframe tbody tr th:only-of-type {\n",
       "        vertical-align: middle;\n",
       "    }\n",
       "\n",
       "    .dataframe tbody tr th {\n",
       "        vertical-align: top;\n",
       "    }\n",
       "\n",
       "    .dataframe thead th {\n",
       "        text-align: right;\n",
       "    }\n",
       "</style>\n",
       "<table border=\"1\" class=\"dataframe\">\n",
       "  <thead>\n",
       "    <tr style=\"text-align: right;\">\n",
       "      <th></th>\n",
       "      <th>Distance(mi)</th>\n",
       "    </tr>\n",
       "    <tr>\n",
       "      <th>Severity</th>\n",
       "      <th></th>\n",
       "    </tr>\n",
       "  </thead>\n",
       "  <tbody>\n",
       "    <tr>\n",
       "      <th>1</th>\n",
       "      <td>0.201586</td>\n",
       "    </tr>\n",
       "    <tr>\n",
       "      <th>2</th>\n",
       "      <td>0.504544</td>\n",
       "    </tr>\n",
       "    <tr>\n",
       "      <th>3</th>\n",
       "      <td>0.606261</td>\n",
       "    </tr>\n",
       "    <tr>\n",
       "      <th>4</th>\n",
       "      <td>1.531702</td>\n",
       "    </tr>\n",
       "  </tbody>\n",
       "</table>\n",
       "</div>"
      ],
      "text/plain": [
       "          Distance(mi)\n",
       "Severity              \n",
       "1             0.201586\n",
       "2             0.504544\n",
       "3             0.606261\n",
       "4             1.531702"
      ]
     },
     "execution_count": 7,
     "metadata": {},
     "output_type": "execute_result"
    }
   ],
   "source": [
    "# Question 3. \n",
    "# Compare average length of road affected for each severity level group\n",
    "# df_s show severity of accident and length of road affected\n",
    "df_s = df[[\"Severity\", \"Distance(mi)\"]]\n",
    "df_splot = df_s.groupby([\"Severity\"]).mean()#calculate mean for each level 1-4\n",
    "df_splot"
   ]
  },
  {
   "cell_type": "code",
   "execution_count": 8,
   "metadata": {},
   "outputs": [
    {
     "data": {
      "image/png": "[encoded data removed]",
      "text/plain": [
       "<Figure size 432x288 with 1 Axes>"
      ]
     },
     "metadata": {
      "needs_background": "light"
     },
     "output_type": "display_data"
    }
   ],
   "source": [
    "# Question 3. \n",
    "# Function creates bar chart\n",
    "def bar_chart(numbers, labels, pos):\n",
    "    plt.bar(pos, numbers, color='blue')\n",
    "    plt.xticks(ticks=pos, labels=labels)\n",
    "    plt.title('Average Road Length Affected for Each Accident Severity Group')\n",
    "    plt.ylabel(\"Length of Road Affected(mi)\")\n",
    "    plt.xlabel(\"Severity Level\")\n",
    "    plt.show()\n",
    "\n",
    "numbers = df_splot['Distance(mi)']\n",
    "labels = ['1', '2', '3', '4']\n",
    "pos = list(range(4))\n",
    "bar_chart(numbers, labels, pos)"
   ]
  },
  {
   "cell_type": "markdown",
   "metadata": {},
   "source": [
    "As the severity level increases we can clearly see that the length of distance covered by the accident also increases. Surprisingly, both severity 2 and 3 have very similar averages with only 0.2 miles difference. As we predicted, less severe accidents cover shorter distances and the highest severity accidents affect on average longeer stretches of road.\n",
    "\n",
    "Process:  \n",
    "We isolated the \"Severity\" and \"Distance(mi)\" columns since those were the only ones we needed. Then we grouped by Severity level, calculating the average distance at the same time.  \n",
    "\n",
    "At first I attempted to separate all 4 severity level groups, then calculate those means. It was easier to handle at first, but was incompatible with plotting the graph, since i needed to rejoin all the data together.\n",
    "\n",
    "\n",
    "#### Research Question 4:\n",
    "Taking the severity of crashes into account we want to figure out how certain weather is related to it. *“What is the correlation between the severity of an accident and the wind speed and precipitation conditions?”* is what we wanted to figure out with our question."
   ]
  },
  {
   "cell_type": "code",
   "execution_count": 9,
   "metadata": {},
   "outputs": [],
   "source": [
    "# Question 4. \n",
    "# What is the correlation between the severity of an accident and the wind speed and precipitation conditions?\n",
    "# Get relevant data:\n",
    "df_w = df[[\"Severity\", 'Wind_Speed(mph)', 'Precipitation(in)']]\n",
    "df_w = df_w.dropna()"
   ]
  },
  {
   "cell_type": "code",
   "execution_count": 10,
   "metadata": {},
   "outputs": [
    {
     "name": "stdout",
     "output_type": "stream",
     "text": [
      "Average Windspeed(mph):  [8.348017621145374, 6.974702131269744, 8.947393390121054, 7.7978719563558965]\n",
      "Average Precipitation(in):  [0.005399789481891579, 0.0072807363482372215, 0.017470465508762283, 0.010614946447911557]\n"
     ]
    }
   ],
   "source": [
    "# Question 4. \n",
    "# Get mean for wind speed and rain/snow levels, index corresponds to severity level.\n",
    "wind_mean = [0] * 4\n",
    "precip_mean = [0] * 4\n",
    "\n",
    "for i in range(4):\n",
    "    wind_mean[i] = df_w[df_w[\"Severity\"]==(i+1)]['Wind_Speed(mph)'].mean()\n",
    "    precip_mean[i] = df_w[df_w[\"Severity\"]==(i+1)]['Precipitation(in)'].mean()\n",
    "\n",
    "print(\"Average Windspeed(mph): \", wind_mean)\n",
    "print(\"Average Precipitation(in): \", precip_mean)"
   ]
  },
  {
   "cell_type": "code",
   "execution_count": 11,
   "metadata": {},
   "outputs": [
    {
     "data": {
      "image/png": "[encoded data removed]",
      "text/plain": [
       "<Figure size 432x288 with 1 Axes>"
      ]
     },
     "metadata": {
      "needs_background": "light"
     },
     "output_type": "display_data"
    }
   ],
   "source": [
    "# Question 4. \n",
    "#Plot for Wind\n",
    "numbers = wind_mean\n",
    "labels = ['1', '2', '3', '4']\n",
    "pos = list(range(4))\n",
    "\n",
    "plt.bar(pos, numbers, color='blue')\n",
    "plt.xticks(ticks=pos, labels=labels)\n",
    "plt.title('Average Wind Speed for Each Accident Severity Level')\n",
    "plt.ylabel('Wind_Speed(mph)')\n",
    "plt.xlabel(\"Severity Level\")\n",
    "plt.show()"
   ]
  },
  {
   "cell_type": "markdown",
   "metadata": {},
   "source": [
    "As clearly seen in this graph we are able to determine that no matter the severity of accidents wind speed doesn’t truly affect them. An accident with severity 3 has the highest average wind speed of 9 mph, whereas an accident with severity 2 has an average wind speed of 7.4 mph. Surprisingly, wind speeds of 8 mph are similar in accidents with a severity of 1 and 4."
   ]
  },
  {
   "cell_type": "code",
   "execution_count": 12,
   "metadata": {},
   "outputs": [
    {
     "data": {
      "image/png": "[encoded data removed]",
      "text/plain": [
       "<Figure size 432x288 with 1 Axes>"
      ]
     },
     "metadata": {
      "needs_background": "light"
     },
     "output_type": "display_data"
    }
   ],
   "source": [
    "# Question 4. \n",
    "# Plot for Rain/Snow\n",
    "numbers = precip_mean\n",
    "labels = ['1', '2', '3', '4']\n",
    "pos = list(range(4))\n",
    "\n",
    "plt.bar(pos, numbers, color='blue')\n",
    "plt.xticks(ticks=pos, labels=labels)\n",
    "plt.title('Average Precipitation for Each Accident Severity Level')\n",
    "plt.ylabel('Precipitation(in)')\n",
    "plt.xlabel(\"Severity Level\")\n",
    "plt.show()"
   ]
  },
  {
   "cell_type": "markdown",
   "metadata": {},
   "source": [
    "This graph was able to give us useful information that we hypothesized correctly. As seen here in the graph, an accident with severity of 3 it also had a relationship to be affected by the most precipitation. The least amount of precipitation compared to the least severe accident. For severity levels 2 and 4 both were very close to around 0.0025 off.\n",
    "\n",
    "Process:  \n",
    "We isolated \"Severity\", 'Wind_Speed(mph)' and 'Precipitation(in)', since we only needed those for this question. I droppped any index that had NA as a value because that denotes unknown rather than 0. We calculated the average windspeed/precipitation for each severity level by looping 4 times, checking a different severity each time. We stored the averages in a separate array.\n",
    "\n",
    "I could have done a similar solution to the previous question by grouping, but decided it was unnecessary, given that there are only 4 severity levels. And since the solution for calculating average windspeed and precipitation is the same, I could do them both at the same time. Only the plotting was different, since windspeed and precipitation are measured in different units.\n",
    "\n",
    "#### Research Question 5:\n",
    "Lastly we wanted to group multiple variables from our dataset to give us a wide correlation to calculate.  We decided to compare many types of traffic obstacles to come up with these questions, *“What is the proportion of accidents that occur on the \"open road\" against those that occur at traffic barriers like intersections and stops?”*  and *“When comparing the percentage of incidents that occur on open roads against those that occur near traffic features, what conclusions can be drawn?”*"
   ]
  },
  {
   "cell_type": "code",
   "execution_count": 13,
   "metadata": {},
   "outputs": [],
   "source": [
    "# Question 5.\n",
    "# 5. What is the proportion of the volume of accidents that occur on \"open road\" \n",
    "#    vs at traffic barriers like intersections and stops?\n",
    "df_j = df[[\"Junction\", 'Roundabout', 'Traffic_Signal', 'Give_Way', 'Stop', 'Crossing']]"
   ]
  },
  {
   "cell_type": "code",
   "execution_count": 14,
   "metadata": {},
   "outputs": [
    {
     "name": "stdout",
     "output_type": "stream",
     "text": [
      "['Junction' 'Roundabout' 'Traffic_Signal' 'Give_Way' 'Stop' 'Crossing']\n",
      "Junction:  204498\n",
      "Roundabout:  51\n",
      "Traffic_Signal:  169969\n",
      "Give_Way:  3255\n",
      "Stop:  17696\n",
      "Crossing:  86383\n",
      "No Obstacles:  1104725\n"
     ]
    }
   ],
   "source": [
    "# Question 5.\n",
    "print(df_j.columns.values)\n",
    "\n",
    "#Get sum of each instance of occurence of each traffic obstacle.\n",
    "jc = df_j['Junction'].value_counts()[True]\n",
    "print(\"Junction: \", jc)\n",
    "\n",
    "rc = df_j['Roundabout'].value_counts()[True]\n",
    "print(\"Roundabout: \", rc)\n",
    "\n",
    "tsc = df_j['Traffic_Signal'].value_counts()[True]\n",
    "print(\"Traffic_Signal: \", tsc)\n",
    "\n",
    "gwc = df_j['Give_Way'].value_counts()[True]\n",
    "print(\"Give_Way: \", gwc)\n",
    "\n",
    "sc = df_j['Stop'].value_counts()[True]\n",
    "print(\"Stop: \", sc)\n",
    "\n",
    "cc = df_j['Crossing'].value_counts()[True]\n",
    "print(\"Crossing: \", cc)\n",
    "\n",
    "nt = df_j.value_counts()[False][False][False][False][False][False]\n",
    "print(\"No Obstacles: \", nt)"
   ]
  },
  {
   "cell_type": "code",
   "execution_count": 15,
   "metadata": {},
   "outputs": [
    {
     "data": {
      "image/png": "[encoded data removed]",
      "text/plain": [
       "<Figure size 432x288 with 1 Axes>"
      ]
     },
     "metadata": {},
     "output_type": "display_data"
    }
   ],
   "source": [
    "# Question 5.\n",
    "# Pie chart, where the slices will be ordered and plotted counter-clockwise:\n",
    "# Data\n",
    "labels = [\"Junction\",'Roundabout','Traffic_Signal','Give_Way', 'Crossing', 'Stop', 'Open Road']\n",
    "sizes = [jc, rc, tsc, gwc, cc, sc, nt]\n",
    "explode = (0.1, 0.1, 0.1, 0.1, 0.1, 0.1, 0.0)  # only \"explode\" turning points\n",
    "\n",
    "#Plotting/formatting\n",
    "fig1, ax1 = plt.subplots()\n",
    "ax1.pie(sizes, explode=explode, labels=labels, autopct='%1.1f%%',\n",
    "        shadow=True, startangle=90)\n",
    "ax1.axis('equal')\n",
    "\n",
    "plt.title('Proportion of Accidents that Occur Near Traffic Obstacles')\n",
    "plt.show()"
   ]
  },
  {
   "cell_type": "markdown",
   "metadata": {},
   "source": [
    "The pie chart helps us to undermine where most accidents occur, as seen the least place for accidents to occur are near stop signs at 1.1%, while most accidents occur on the open road at 69.6%. Surprisingly the value of accidents near a Roundabout has such a small value that it almost equates to 0% of the total amount, also the value of accidents at a Give way intersection is also such a small value sitting at 0.2%. The percentages of Traffic Signals and Junction are very closely separated by about 2.2%, while Crossing (pedestrian) is at a small 5.4%.\n",
    "\n",
    "Process:  \n",
    "For this question we had to isolate more columns, that was fine, given that they all contained True or False. We summed the amount of incidents where each feature was present(indicted by True). Instead of using a bar graph to compare sums, we decided it was better to use a pie chart to show proportion, since were comparing to total volume of accidents.\n",
    "\n",
    "We could have grouped all obstacles into one sum, but that wouldn't have been descriptive enough for us, since we wanted to see which traffic stops/turns were more \"dangerous\". We also could have compared sums rather than percentages as we  did previously, but that visual representation didn't show the relationship we wanted to show. This way, we are able to eaily see that over a quarter of the recorded accidents happened near stops/turns. This is significant because most of the road *isn't* stops and turns, so if there was no increased risk, then a much larger majority of the accidents would occur on the \"open\" road."
   ]
  },
  {
   "cell_type": "markdown",
   "metadata": {},
   "source": [
    "### Potential Data Science: \n",
    "\n",
    "There are several ideas related to data science and machine learning that can be found based on the data analysis and finding on this dataset: \n",
    "1. The first idea that was thought of was to implement machine learning into predicting the location of the next accident. By analyzing the data (such as the time and location) that is found in the dataset, with the help of machine learning, one can use it to see where it is most likely to have another traffic accident and with that information. Can make a prediction that there may be a traffic accident happening there soon.  \n",
    "2. Another application that can be found through this dataset is by applying data science and seeing where the government needs to fix / or add more infrastructure to the roads. Finding areas where it is very common for people to get into these traffic accidents, the government can help reduce the amount of traffic accidents happening by applying either of the two methods. \n"
   ]
  },
  {
   "cell_type": "markdown",
   "metadata": {},
   "source": [
    "### Conclusion: \n",
    "\n",
    "In the end ,traffic accidents are something that is always bound to happen at any time because of human error and other uncontrollable factors such as weather. However, in everyone’s best interest, it is always beneficial to avoid such traffic accidents as they are dangerous to one’s safety. With the help of the dataset and the information that it contains, it allows one to predict possible future accidents that might happen in a specific area.  These real-time traffic predictions can be done by recognizing the recurring patterns and its relationship with other factors that might cause the traffic accidents.  \n",
    "\n",
    "\n",
    "Although, it is important to remember that these are only predictions based on the data and it does not truly protect one from all traffic accidents. There are different limitations that were faced when working on this project. The information that was gathered and what the dataset was based off on, is that it all takes place in the United States. This is important because since all of the information was gathered in this country, it basically makes information possibly irrelevant if one is from another country and wants to apply the predictions done here to avoid future traffic accidents. As conditions can drastically change in other countries, there might be other possible factors that cause traffic accidents which might not be an issue in the US. In the future when doing the same analysis of traffic accidents, there is a method that can be implemented in order to apply the real-traffic prediction to anywhere in the world. Although it is not the perfect solution to the problem, the method is to add other countries' dataset about their traffic accidents. This is so that one can now compare information from other countries and see how the patterns that cause the traffic accidents in any country differ.   \n",
    "\n",
    "\n",
    "But in general, there are many takeaways that one can learn from this dataset to help understand more about this topic. By looking at the time intervals, one can see that during rush hour, it is when it is the most dangerous time as it has the most volume of accidents. In the year 2020, the prediction was that there would be less traffic accidents throughout the year compared to the previous years as there was a pandemic. However, in reality it was the opposite of the prediction, it was the year where the most traffic accidents happened in the US. As well as the prediction with the severity vs the road length, it was not expected to have such a huge jump in length from severity 3 to severity 4. When it came to the prediction with the precipitation and wind in relation with the severity, the initial prediction was that the heavier (precipitation and wind) was, the higher the severity level would be. But it was not indeed like that and instead, the analysis showed that these weather conditions had no impact on the severity level. \n"
   ]
  },
  {
   "cell_type": "markdown",
   "metadata": {},
   "source": [
    "### ACKNOWLEDGEMENT\n",
    "- Moosavi, Sobhan, Mohammad Hossein Samavatian, Srinivasan Parthasarathy, and Rajiv Ramnath. “A Countrywide Traffic Accident Dataset.”, 2019.\n",
    "- Moosavi, Sobhan, Mohammad Hossein Samavatian, Srinivasan Parthasarathy, Radu Teodorescu, and Rajiv Ramnath. \"Accident Risk Prediction based on Heterogeneous Sparse Data: New Dataset and Insights.\" In proceedings of the 27th ACM SIGSPATIAL International Conference on Advances in Geographic Information Systems, ACM, 2019.\"\n",
    "\n",
    "*“This project was submitted as the final course project for CSCI 2000U “Scientific \n",
    "Data Analysis” during Fall 2021. The authors certify that the work in this \n",
    "repository is original and that all appropriate resources are rightfully cited.”*"
   ]
  }
 ],
 "metadata": {
  "kernelspec": {
   "display_name": "Python 3",
   "language": "python",
   "name": "python3"
  },
  "language_info": {
   "codemirror_mode": {
    "name": "ipython",
    "version": 3
   },
   "file_extension": ".py",
   "mimetype": "text/x-python",
   "name": "python",
   "nbconvert_exporter": "python",
   "pygments_lexer": "ipython3",
   "version": "3.8.5"
  }
 },
 "nbformat": 4,
 "nbformat_minor": 4
}
